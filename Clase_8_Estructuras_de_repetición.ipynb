{
  "nbformat": 4,
  "nbformat_minor": 0,
  "metadata": {
    "colab": {
      "provenance": [],
      "authorship_tag": "ABX9TyM99S+TTdDQX1+l0ZcQOXpM",
      "include_colab_link": true
    },
    "kernelspec": {
      "name": "python3",
      "display_name": "Python 3"
    },
    "language_info": {
      "name": "python"
    }
  },
  "cells": [
    {
      "cell_type": "markdown",
      "metadata": {
        "id": "view-in-github",
        "colab_type": "text"
      },
      "source": [
        "<a href=\"https://colab.research.google.com/github/lgonzalez143/FUNPRO/blob/main/Clase_8_Estructuras_de_repetici%C3%B3n.ipynb\" target=\"_parent\"><img src=\"https://colab.research.google.com/assets/colab-badge.svg\" alt=\"Open In Colab\"/></a>"
      ]
    },
    {
      "cell_type": "markdown",
      "source": [
        "##ESTRUCTURA PARA/for\n",
        "* La estructura para se emplea cuando se\n",
        "sabe **cuantas veces** se repite una\n",
        "acción.\n",
        "\n",
        "Sintaxis\n",
        "```\n",
        "for(variable) in range(VI,VF,pasos):\n",
        " La accion que se repite VF-VI\n",
        "```\n"
      ],
      "metadata": {
        "id": "01YBWvLPtEGO"
      }
    },
    {
      "cell_type": "code",
      "execution_count": null,
      "metadata": {
        "colab": {
          "base_uri": "https://localhost:8080/"
        },
        "id": "fH-ymLIvsvvL",
        "outputId": "773099ac-12cc-4d0c-981e-b1a5831e09dc"
      },
      "outputs": [
        {
          "output_type": "stream",
          "name": "stdout",
          "text": [
            "Ingrese la cantidad de empleados:  3\n",
            "Ingrese el saladio del empleado 1:10\n",
            "Ingrese el saladio del empleado 2:20\n",
            "Ingrese el saladio del empleado 3:5\n",
            "La nomina de 3 empleados es: 35\n"
          ]
        }
      ],
      "source": [
        "#Hacer un programa que calcule la nómina de n empleados\n",
        "nomina=0\n",
        "n=int(input(\"Ingrese la cantidad de empleados:  \"))\n",
        "for s in range(1,n+1,1):\n",
        "  sueldo=int(input(f\"Ingrese el salario del empleado {s}:\"))\n",
        "  nomina=nomina+sueldo #Acumulador\n",
        "print(f\"La nomina de {n} empleados es: {nomina}\")"
      ]
    }
  ]
}