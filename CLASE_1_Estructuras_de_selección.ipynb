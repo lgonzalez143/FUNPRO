{
  "nbformat": 4,
  "nbformat_minor": 0,
  "metadata": {
    "colab": {
      "provenance": []
    },
    "kernelspec": {
      "name": "python3",
      "display_name": "Python 3"
    },
    "language_info": {
      "name": "python"
    }
  },
  "cells": [
    {
      "cell_type": "markdown",
      "source": [],
      "metadata": {
        "id": "GhQyCtLIQqTd"
      }
    },
    {
      "cell_type": "code",
      "execution_count": null,
      "metadata": {
        "id": "DREmnrlWQaxc"
      },
      "outputs": [],
      "source": [
        " #Ejemplo1: AI para gasolina\n",
        " respuesta=\"\" #Declaramos una variable como caracter\n",
        " #Para imprimir, usamos el comando print\n",
        " print(\"Detecto poca gasolina en el tanque\")\n",
        " print(\"Desea ir a la gasolinera mas cercana?\")\n",
        " #funcion input para leer respuestas\n",
        " respuesta=input()"
      ]
    },
    {
      "cell_type": "code",
      "source": [
        "respuesta=input(\"Detecto poca gasolina en el tanque\\nDesea ir a la gasolinera mas cercana?\")"
      ],
      "metadata": {
        "colab": {
          "base_uri": "https://localhost:8080/"
        },
        "id": "ROvvYzzXa9bm",
        "outputId": "f4deaea9-6f03-44b7-945e-32bda478a9ec"
      },
      "execution_count": 10,
      "outputs": [
        {
          "name": "stdout",
          "output_type": "stream",
          "text": [
            "Detecto poca gasolina en el tanque\n",
            "Desea ir a la gasolinera mas cercana?sí\n"
          ]
        }
      ]
    },
    {
      "cell_type": "code",
      "source": [
        "if respuesta==\"sí\":\n",
        "  print(\"Ir a la gasolinera mas cercana\")\n",
        "else:\n",
        "  print(\"seguimos derecho\")"
      ],
      "metadata": {
        "colab": {
          "base_uri": "https://localhost:8080/"
        },
        "id": "5OI3fcC1cISO",
        "outputId": "edcea36b-12b3-49a0-bcb9-c4fe9f3e20d7"
      },
      "execution_count": 9,
      "outputs": [
        {
          "output_type": "stream",
          "name": "stdout",
          "text": [
            "seguimos derecho\n"
          ]
        }
      ]
    },
    {
      "cell_type": "code",
      "source": [
        "#Vamos a mejorar el ejercicio\n",
        "import random #importando la libreria random\n",
        "gasolina=random.randint(1,100) #Hallar un numero aleatorio entre 1 y 100\n",
        "gasolina"
      ],
      "metadata": {
        "colab": {
          "base_uri": "https://localhost:8080/"
        },
        "id": "OPP0NmXhfrcb",
        "outputId": "8e5cae20-54a9-4baf-cb64-bb9323966dbe"
      },
      "execution_count": 32,
      "outputs": [
        {
          "output_type": "execute_result",
          "data": {
            "text/plain": [
              "61"
            ]
          },
          "metadata": {},
          "execution_count": 32
        }
      ]
    },
    {
      "cell_type": "code",
      "source": [
        "if gasolina<=10:\n",
        "  respuesta=input(\"Detecto poca gasolina en el tanque\\nDesea ir a la gasolinera mas cercana?\")\n",
        "  if respuesta==\"sí\":\n",
        "   print(\"Ir a la gasolinera mas cercana\")\n",
        "  else:\n",
        "   print(\"seguimos derecho\")\n",
        "else:\n",
        "  print(\"Sigo por el camino\")"
      ],
      "metadata": {
        "colab": {
          "base_uri": "https://localhost:8080/"
        },
        "id": "H3lVIZcUgPaS",
        "outputId": "92273c48-a2f6-4e98-f4b4-5fe944180357"
      },
      "execution_count": 33,
      "outputs": [
        {
          "output_type": "stream",
          "name": "stdout",
          "text": [
            "Sigo por el camino\n"
          ]
        }
      ]
    }
  ]
}